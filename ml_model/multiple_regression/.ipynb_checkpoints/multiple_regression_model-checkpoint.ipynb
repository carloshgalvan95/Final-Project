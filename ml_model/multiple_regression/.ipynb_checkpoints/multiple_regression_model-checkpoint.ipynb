{
 "cells": [
  {
   "cell_type": "markdown",
   "id": "c1c36e7f",
   "metadata": {},
   "source": [
    "# import Dependencies"
   ]
  },
  {
   "cell_type": "code",
   "execution_count": 1,
   "id": "9e14d66f",
   "metadata": {
    "ExecuteTime": {
     "end_time": "2022-11-18T00:33:34.508141Z",
     "start_time": "2022-11-18T00:33:32.189984Z"
    }
   },
   "outputs": [],
   "source": [
    "import pandas as pd\n",
    "from pathlib import Path\n",
    "import matplotlib.pyplot as plt\n",
    "from sklearn.linear_model import LinearRegression\n",
    "from sklearn.model_selection import train_test_split\n",
    "from sklearn.metrics import mean_squared_error, mean_absolute_error"
   ]
  },
  {
   "cell_type": "code",
   "execution_count": null,
   "id": "db5a560e",
   "metadata": {},
   "outputs": [],
   "source": [
    "df = pd.read_csv()\n",
    "df.head"
   ]
  },
  {
   "cell_type": "code",
   "execution_count": null,
   "id": "f73fab60",
   "metadata": {
    "code_folding": []
   },
   "outputs": [],
   "source": [
    "# Set parameters to search for cafes within a radius of X meters\n",
    "params = {\n",
    "    'radius': #TBD\n",
    "    'type': 'cafe'\n",
    "    'key': gkey\n",
    "}\n",
    "\n",
    "# Iterate through the DataFrame\n",
    "for index, row in df.iterrows():\n",
    "    \n",
    "    # Get Latitude and Longitude from DataFrame\n",
    "    lat = row['latitude']\n",
    "    lng = row['longitude']\n",
    "    params['location'] = f'{lat},{lng}'\n",
    "    \n",
    "    # Set up the base URL for the Google Directions API to get JSON data\n",
    "    base_url = \"https://maps.googleapis.com/maps/api/place/nearbysearch/json\"\n",
    "    \n",
    "    # Make request and retrieve the JSON data from the search\n",
    "    starbucks = request.get(base_url, params=params).json()\n",
    "    try:\n",
    "        print(f'Found {starbucks[\"results\"][0][\"name\"]} for {starbucks_df[\"City\"][index]}')\n",
    "        starbucks_df.loc[index, \"Hotel Name\"] = hotels[\"results\"][0][\"name\"]\n",
    "        \n",
    "        # Query for Starbucks on cafe's names\n",
    "        \n",
    "        \n",
    "    # If a cafe isn't found skip the row\n",
    "    except (IndexError): \n",
    "        print(\"No hotel found...skipping.\")"
   ]
  },
  {
   "cell_type": "code",
   "execution_count": null,
   "id": "67f73f7e",
   "metadata": {},
   "outputs": [],
   "source": [
    "X = df[['starbucks','airbnb']]\n",
    "y = df['precio_renta']\n",
    "\n",
    "X_train, X_test, y_train, y_test = train_test_split(X, y, test_size = 0.3, random_state = 101)\n",
    "\n",
    "model = LinearRegression()\n",
    "\n",
    "model.fit(X_train, y_train)\n",
    "\n",
    "y_pred = model.predict(X_test)\n",
    "\n",
    "print('Mean Square Error: ', mean_squared_error(y_test,y_pred))\n",
    "print('Mean Absolute Error: 'mean_absolute_error(y_test,y_pred))\n",
    "\n"
   ]
  }
 ],
 "metadata": {
  "kernelspec": {
   "display_name": "mlenv",
   "language": "python",
   "name": "mlenv"
  },
  "language_info": {
   "codemirror_mode": {
    "name": "ipython",
    "version": 3
   },
   "file_extension": ".py",
   "mimetype": "text/x-python",
   "name": "python",
   "nbconvert_exporter": "python",
   "pygments_lexer": "ipython3",
   "version": "3.7.13"
  },
  "toc": {
   "base_numbering": 1,
   "nav_menu": {},
   "number_sections": true,
   "sideBar": true,
   "skip_h1_title": false,
   "title_cell": "Table of Contents",
   "title_sidebar": "Contents",
   "toc_cell": false,
   "toc_position": {},
   "toc_section_display": true,
   "toc_window_display": false
  }
 },
 "nbformat": 4,
 "nbformat_minor": 5
}
