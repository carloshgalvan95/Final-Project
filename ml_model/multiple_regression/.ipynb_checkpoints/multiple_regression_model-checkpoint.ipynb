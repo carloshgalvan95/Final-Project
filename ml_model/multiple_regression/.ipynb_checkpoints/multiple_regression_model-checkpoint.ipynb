{
 "cells": [
  {
   "cell_type": "markdown",
   "id": "3e765083",
   "metadata": {},
   "source": [
    "# import Dependencies"
   ]
  },
  {
   "cell_type": "code",
   "execution_count": 36,
   "id": "c09811ad",
   "metadata": {
    "ExecuteTime": {
     "end_time": "2022-11-30T02:14:38.044357Z",
     "start_time": "2022-11-30T02:14:38.032420Z"
    }
   },
   "outputs": [],
   "source": [
    "# Import dependencies for multiple regression\n",
    "import pandas as pd\n",
    "from pathlib import Path\n",
    "import matplotlib.pyplot as plt\n",
    "from sklearn.linear_model import LinearRegression\n",
    "from sklearn.model_selection import train_test_split\n",
    "from sklearn.metrics import mean_squared_error, mean_absolute_error\n",
    "import re\n",
    "\n",
    "\n",
    "# Import dependencies for google maps API\n",
    "from config import g_key\n",
    "import gmaps\n",
    "import requests\n",
    "import geopy.distance"
   ]
  },
  {
   "cell_type": "code",
   "execution_count": null,
   "id": "62046c59",
   "metadata": {},
   "outputs": [],
   "source": [
    "# Import csv files to DataFrames\n",
    "catastro_df = pd.read_csv('Resources/db_catastro.csv')\n",
    "starbucks_df = pd.read_csv('Resources/MexicoCityStarbucks.csv')\n",
    "airbnb_df = pd.read_csv('Resources/airbnb.csv')"
   ]
  },
  {
   "cell_type": "markdown",
   "id": "81b85673",
   "metadata": {},
   "source": [
    "# Parse data to locate nearby Airbnbs"
   ]
  },
  {
   "cell_type": "code",
   "execution_count": null,
   "id": "ecbd3f68",
   "metadata": {
    "code_folding": []
   },
   "outputs": [],
   "source": [
    "# Set parameters to search for cafes within a radius of X meters\n",
    "params = {\n",
    "    'radius': #TBD\n",
    "    'type': 'cafe'\n",
    "    'key': gkey\n",
    "}\n",
    "\n",
    "# Iterate through the DataFrame\n",
    "for index, row in df.iterrows():\n",
    "    \n",
    "    # Get Latitude and Longitude from DataFrame\n",
    "    lat = row['latitude']\n",
    "    lng = row['longitude']\n",
    "    params['location'] = f'{lat},{lng}'\n",
    "    \n",
    "    # Set up the base URL for the Google Directions API to get JSON data\n",
    "    base_url = \"https://maps.googleapis.com/maps/api/place/nearbysearch/json\"\n",
    "    \n",
    "    # Make request and retrieve the JSON data from the search\n",
    "    starbucks = request.get(base_url, params=params).json()\n",
    "    try:\n",
    "        regex = 'starbucks'\n",
    "        cafe = starbucks['results'][0]['name'].str.contains(regex)] \n",
    "        print(f'Found {starbucks[\"results\"][0][\"name\"]} for {starbucks_df[\"City\"][index]}')\n",
    "        starbucks_df.loc[index, \"Starbucks\"] = starbucks[\"results\"][0][\"name\"]\n",
    "        \n",
    "        # Query for Starbucks on cafe's names\n",
    "        is_there_starbucks = r'starbucks'\n",
    "        starbucks.str.contains(is_there_starbucks, flags=re. IGNORECASE, na= False)\n",
    "        df.append['starbucks']\n",
    "        \n",
    "    # If a cafe isn't found skip the row\n",
    "    except (IndexError): \n",
    "        print(\"No starbucks found...skipping.\")"
   ]
  },
  {
   "cell_type": "code",
   "execution_count": 31,
   "id": "88e9f10e",
   "metadata": {
    "ExecuteTime": {
     "end_time": "2022-11-30T01:49:57.084738Z",
     "start_time": "2022-11-30T01:49:56.909681Z"
    }
   },
   "outputs": [
    {
     "data": {
      "text/plain": [
       "{'error_message': 'You must enable Billing on the Google Cloud Project at https://console.cloud.google.com/project/_/billing/enable Learn more at https://developers.google.com/maps/gmp-get-started',\n",
       " 'html_attributions': [],\n",
       " 'results': [],\n",
       " 'status': 'REQUEST_DENIED'}"
      ]
     },
     "execution_count": 31,
     "metadata": {},
     "output_type": "execute_result"
    }
   ],
   "source": [
    "params = {'radius': 10000000000000000,\n",
    "          'type': 'cafe',\n",
    "          'key': g_key}\n",
    "for index, row in catastros_df.iterrows():\n",
    "    \n",
    "    lat = row['latitud']\n",
    "    lng = row['longitud']\n",
    "    params['location'] = f'{lat},{lng}'\n",
    "    \n",
    "# Set up the base URL for the Google Directions API to get JSON data\n",
    "base_url = \"https://maps.googleapis.com/maps/api/place/nearbysearch/json\"\n",
    "    \n",
    "# Make request and retrieve the JSON data from the search\n",
    "starbucks = requests.get(base_url, params=params).json()\n",
    "\n",
    "for cafe in cafes:\n",
    "    starbucks_match = re.match('starbucks')\n",
    "    if starbucks_match:\n",
    "        no_starbucks = no_starbucks + 1\n",
    "\n",
    "catastro_df.loc[index, 'Starbucks'] = no_starbucks\n",
    "\n",
    "\n",
    "# Hacer for loop para buscar en cada una de las filas de catastro lat y lng\n",
    "for index, row in catastro_df.iterrows():\n",
    "    no_airbnb = 0\n",
    "    lat_cat = row['latitud']\n",
    "    lng_cat = row['longitud']\n",
    "    catastro_loc = f'{lat_cat},{lng_cat}'\n",
    "# con cada fila, hacer nested for loop para buscar en el csv de airbnb cada fila\n",
    "    for index, row in airbnb_df.iterrows():\n",
    "        lat_bnb = row['latitud']\n",
    "        lng_bnb = row['longitud']\n",
    "        airbnb_loc = = f'{lat_bnb},{lng_bnb}'\n",
    "# Compara if de lat,lng de catastro if catastro_df[0] > 500m de distancia de airbnb_df[0]\n",
    "        distancia = geopy.distance.geodesic(catastro_loc, airbnb_loc).m\n",
    "        if distancia < 500:\n",
    "            no_airbnb = no_airbnb + 1\n",
    "    catastro_df.loc[index, 'no_airbnb'] = no_airbnb\n"
   ]
  },
  {
   "cell_type": "code",
   "execution_count": null,
   "id": "1fddb37a",
   "metadata": {},
   "outputs": [],
   "source": [
    "# Hacer for loop para buscar en cada una de las filas de catastro lat y lng\n",
    "for index, row in catastro_df.iterrows():\n",
    "    no_airbnb = 0\n",
    "    lat_cat = row['latitud']\n",
    "    lng_cat = row['longitud']\n",
    "    catastro_loc = f'{lat_cat},{lng_cat}'\n",
    "# con cada fila, hacer nested for loop para buscar en el csv de airbnb cada fila\n",
    "    for index, row in airbnb_df.iterrows():\n",
    "        lat_bnb = row['latitud']\n",
    "        lng_bnb = row['longitud']\n",
    "        airbnb_loc = = f'{lat_bnb},{lng_bnb}'\n",
    "# Compara if de lat,lng de catastro if catastro_df[0] > 500m de distancia de airbnb_df[0]\n",
    "        distancia = geopy.distance.geodesic(catastro_loc, airbnb_loc).m\n",
    "        if distancia < 500:\n",
    "            no_airbnb = no_airbnb + 1\n",
    "    catastro_df.loc[index, 'no_airbnb'] = no_airbnb\n"
   ]
  },
  {
   "cell_type": "code",
   "execution_count": null,
   "id": "a9da8ecf",
   "metadata": {},
   "outputs": [],
   "source": [
    "starbucks_df"
   ]
  },
  {
   "cell_type": "code",
   "execution_count": 37,
   "id": "1394cec8",
   "metadata": {
    "ExecuteTime": {
     "end_time": "2022-11-30T02:14:53.610040Z",
     "start_time": "2022-11-30T02:14:53.595359Z"
    }
   },
   "outputs": [
    {
     "name": "stdout",
     "output_type": "stream",
     "text": [
      "2668.3759381167724\n"
     ]
    }
   ],
   "source": [
    "catastro_loc = (19.3616492, -99.2535303)\n",
    "airbnb_loc = (19.38, -99.27)\n",
    "\n",
    "print(geopy.distance.geodesic(catastro_loc, airbnb_loc).m)"
   ]
  },
  {
   "cell_type": "markdown",
   "id": "6b9e49e1",
   "metadata": {},
   "source": [
    "# Parse data to locate nearby Airbnbs"
   ]
  },
  {
   "cell_type": "markdown",
   "id": "a04df95f",
   "metadata": {},
   "source": [
    "# Generate Multiple Regression Model"
   ]
  },
  {
   "cell_type": "code",
   "execution_count": null,
   "id": "ed402140",
   "metadata": {},
   "outputs": [],
   "source": [
    "# Declare independent variables\n",
    "X = castastro_df['starbucks','airbnb','avg_airbnb_price']\n",
    "\n",
    "# Declare depedant variable to predict\n",
    "y = catrastro_df['valor_unitario']\n",
    "\n",
    "# Split dataset into train and test\n",
    "X_train, X_test, y_train, y_test = train_test_split(X, y, test_size = 0.3, random_state = 101)\n",
    "\n",
    "# Create model\n",
    "model = LinearRegression()\n",
    "\n",
    "# Fit Model\n",
    "model.fit(X_train, y_train)\n",
    "\n",
    "# Generate predictions\n",
    "y_pred = model.predict(X_test)\n",
    "\n",
    "# Asses accuracy of the model\n",
    "print('Mean Square Error: ', mean_squared_error(y_test,y_pred))\n",
    "print('Mean Absolute Error: 'mean_absolute_error(y_test,y_pred))\n",
    "\n"
   ]
  }
 ],
 "metadata": {
  "kernelspec": {
   "display_name": "mlenv",
   "language": "python",
   "name": "mlenv"
  },
  "language_info": {
   "codemirror_mode": {
    "name": "ipython",
    "version": 3
   },
   "file_extension": ".py",
   "mimetype": "text/x-python",
   "name": "python",
   "nbconvert_exporter": "python",
   "pygments_lexer": "ipython3",
   "version": "3.7.13"
  },
  "toc": {
   "base_numbering": 1,
   "nav_menu": {},
   "number_sections": true,
   "sideBar": true,
   "skip_h1_title": false,
   "title_cell": "Table of Contents",
   "title_sidebar": "Contents",
   "toc_cell": false,
   "toc_position": {},
   "toc_section_display": true,
   "toc_window_display": false
  }
 },
 "nbformat": 4,
 "nbformat_minor": 5
}
